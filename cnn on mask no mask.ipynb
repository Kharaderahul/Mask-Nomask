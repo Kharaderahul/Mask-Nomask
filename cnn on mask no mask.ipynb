{
 "cells": [
  {
   "cell_type": "code",
   "execution_count": 1,
   "id": "b59f9ae7",
   "metadata": {},
   "outputs": [],
   "source": [
    "import os\n",
    "import cv2\n",
    "import matplotlib.pyplot as plt \n",
    "import tensorflow as tf\n",
    "import keras\n",
    "import numpy as np\n",
    "from keras.models import Sequential\n",
    "from keras.layers import Conv2D, MaxPool2D, Flatten, Dense, Dropout"
   ]
  },
  {
   "cell_type": "code",
   "execution_count": 2,
   "id": "805f7ba6",
   "metadata": {},
   "outputs": [],
   "source": [
    "image_size = 200\n",
    "\n",
    "path1 = r'C:\\Users\\khara\\Downloads\\Mask_NoMask'\n",
    "cate = ['Mask', 'No_Mask']\n",
    "\n",
    "input_image = []\n",
    "for i in cate:\n",
    "    folders = os.path.join(path1, i)\n",
    "    label = cate.index(i)                  # need to tell software which image is of which category\n",
    "    for image in os.listdir(folders):\n",
    "        image_path = os.path.join(folders, image)\n",
    "        image_array = cv2.imread(image_path)    # using cv2, reading image storing variable\n",
    "        image_array = cv2.resize(image_array, (image_size, image_size))    # resizing image to 200 * 200\n",
    "        input_image.append([image_array, label])"
   ]
  },
  {
   "cell_type": "code",
   "execution_count": 3,
   "id": "42fc3d6f",
   "metadata": {},
   "outputs": [
    {
     "data": {
      "text/plain": [
       "8838"
      ]
     },
     "execution_count": 3,
     "metadata": {},
     "output_type": "execute_result"
    }
   ],
   "source": [
    "len(input_image)"
   ]
  },
  {
   "cell_type": "code",
   "execution_count": 4,
   "id": "89394f04",
   "metadata": {},
   "outputs": [],
   "source": [
    "input_image = input_image[2000:6000]"
   ]
  },
  {
   "cell_type": "code",
   "execution_count": 5,
   "id": "b3fc456d",
   "metadata": {},
   "outputs": [],
   "source": [
    "np.random.shuffle(input_image)\n",
    "\n",
    "X  = []\n",
    "Y =  []\n",
    "\n",
    "for X_values , labels in input_image:\n",
    "    X.append(X_values)\n",
    "    Y.append(labels)\n",
    "\n",
    "X = np.array(X)\n",
    "Y = np.array(Y)"
   ]
  },
  {
   "cell_type": "code",
   "execution_count": 6,
   "id": "75cdb3bf",
   "metadata": {},
   "outputs": [
    {
     "data": {
      "text/plain": [
       "(3500, 200, 200, 3)"
      ]
     },
     "execution_count": 6,
     "metadata": {},
     "output_type": "execute_result"
    }
   ],
   "source": [
    "X_train = X[:3500]\n",
    "X_test = X[3500:]\n",
    "\n",
    "Y_train = Y[:3500]\n",
    "Y_test = Y[3500:]\n",
    "\n",
    "X_train = X_train/255\n",
    "X_test = X_test/255\n",
    "X_train.shape"
   ]
  },
  {
   "cell_type": "code",
   "execution_count": 7,
   "id": "cb7245e6",
   "metadata": {},
   "outputs": [
    {
     "data": {
      "text/plain": [
       "(500, 200, 200, 3)"
      ]
     },
     "execution_count": 7,
     "metadata": {},
     "output_type": "execute_result"
    }
   ],
   "source": [
    "X_test.shape"
   ]
  },
  {
   "cell_type": "code",
   "execution_count": 8,
   "id": "dbe066f4",
   "metadata": {},
   "outputs": [
    {
     "data": {
      "text/plain": [
       "(3500,)"
      ]
     },
     "execution_count": 8,
     "metadata": {},
     "output_type": "execute_result"
    }
   ],
   "source": [
    "Y_train.shape"
   ]
  },
  {
   "cell_type": "code",
   "execution_count": 9,
   "id": "40be9b20",
   "metadata": {},
   "outputs": [],
   "source": [
    "model = Sequential()\n",
    "model.add(Conv2D(filters = 16 , kernel_size =(5,5) , activation ='relu'  ,   ))\n",
    "model.add(MaxPool2D(pool_size =(2,2)))\n",
    "#model.add(Conv2D(filters = 16 , kernel_size =(5,5) , activation ='relu'  ,   ))\n",
    "#model.add(MaxPool2D(pool_size =(2,2)))\n",
    "model.add(Flatten())\n",
    "#model.add(Dense(128 , activation = 'relu' ))\n",
    "#model.add(Dropout(0.4))\n",
    "model.add(Dense(2 , activation= 'softmax'))"
   ]
  },
  {
   "cell_type": "code",
   "execution_count": 10,
   "id": "193beac8",
   "metadata": {},
   "outputs": [],
   "source": [
    "model.compile(optimizer='adam',loss = 'sparse_categorical_crossentropy', metrics = ['accuracy'])"
   ]
  },
  {
   "cell_type": "code",
   "execution_count": 11,
   "id": "40def96b",
   "metadata": {},
   "outputs": [
    {
     "name": "stdout",
     "output_type": "stream",
     "text": [
      "Epoch 1/15\n",
      "93/93 [==============================] - 65s 670ms/step - loss: 1.1034 - accuracy: 0.7395 - val_loss: 0.3071 - val_accuracy: 0.8914\n",
      "Epoch 2/15\n",
      "93/93 [==============================] - 56s 606ms/step - loss: 0.2627 - accuracy: 0.9052 - val_loss: 0.2671 - val_accuracy: 0.9124\n",
      "Epoch 3/15\n",
      "93/93 [==============================] - 55s 593ms/step - loss: 0.1953 - accuracy: 0.9284 - val_loss: 0.2295 - val_accuracy: 0.9257\n",
      "Epoch 4/15\n",
      "93/93 [==============================] - 58s 621ms/step - loss: 0.1302 - accuracy: 0.9529 - val_loss: 0.2944 - val_accuracy: 0.8933\n",
      "Epoch 5/15\n",
      "93/93 [==============================] - 57s 614ms/step - loss: 0.0934 - accuracy: 0.9677 - val_loss: 0.2689 - val_accuracy: 0.8952\n",
      "Epoch 6/15\n",
      "93/93 [==============================] - 59s 630ms/step - loss: 0.0693 - accuracy: 0.9795 - val_loss: 0.2454 - val_accuracy: 0.9086\n",
      "Epoch 7/15\n",
      "93/93 [==============================] - 60s 640ms/step - loss: 0.0529 - accuracy: 0.9859 - val_loss: 0.2680 - val_accuracy: 0.9162\n",
      "Epoch 8/15\n",
      "93/93 [==============================] - 57s 610ms/step - loss: 0.0370 - accuracy: 0.9933 - val_loss: 0.3076 - val_accuracy: 0.8895\n",
      "Epoch 9/15\n",
      "93/93 [==============================] - 57s 610ms/step - loss: 0.0179 - accuracy: 0.9973 - val_loss: 0.2726 - val_accuracy: 0.9124\n",
      "Epoch 10/15\n",
      "93/93 [==============================] - 55s 596ms/step - loss: 0.0101 - accuracy: 0.9993 - val_loss: 0.3337 - val_accuracy: 0.8990\n",
      "Epoch 11/15\n",
      "93/93 [==============================] - 55s 593ms/step - loss: 0.0064 - accuracy: 0.9997 - val_loss: 0.3295 - val_accuracy: 0.9257\n",
      "Epoch 12/15\n",
      "93/93 [==============================] - 55s 594ms/step - loss: 0.0049 - accuracy: 0.9990 - val_loss: 0.3293 - val_accuracy: 0.9257\n",
      "Epoch 13/15\n",
      "93/93 [==============================] - 72s 774ms/step - loss: 0.0043 - accuracy: 0.9997 - val_loss: 0.3805 - val_accuracy: 0.9162\n",
      "Epoch 14/15\n",
      "93/93 [==============================] - 55s 588ms/step - loss: 0.0027 - accuracy: 0.9997 - val_loss: 0.3761 - val_accuracy: 0.9029\n",
      "Epoch 15/15\n",
      "93/93 [==============================] - 55s 587ms/step - loss: 0.0017 - accuracy: 1.0000 - val_loss: 0.3940 - val_accuracy: 0.9143\n"
     ]
    },
    {
     "data": {
      "text/plain": [
       "<keras.callbacks.History at 0x223b5e2c610>"
      ]
     },
     "execution_count": 11,
     "metadata": {},
     "output_type": "execute_result"
    }
   ],
   "source": [
    "model.fit(X_train, Y_train, epochs=15 ,validation_split= 0.15)"
   ]
  },
  {
   "cell_type": "code",
   "execution_count": 12,
   "id": "7968f184",
   "metadata": {},
   "outputs": [],
   "source": [
    "pred = model.predict(X_test)\n",
    "pred_classes = np.argmax(pred, 1)"
   ]
  },
  {
   "cell_type": "code",
   "execution_count": 13,
   "id": "e2322b80",
   "metadata": {},
   "outputs": [],
   "source": [
    "from sklearn.metrics import confusion_matrix"
   ]
  },
  {
   "cell_type": "code",
   "execution_count": 14,
   "id": "fdea689f",
   "metadata": {},
   "outputs": [
    {
     "data": {
      "text/plain": [
       "array([[359,  22],\n",
       "       [  9, 110]], dtype=int64)"
      ]
     },
     "execution_count": 14,
     "metadata": {},
     "output_type": "execute_result"
    }
   ],
   "source": [
    "tab = confusion_matrix(pred_classes, Y_test)\n",
    "tab"
   ]
  },
  {
   "cell_type": "code",
   "execution_count": 15,
   "id": "4200d277",
   "metadata": {},
   "outputs": [
    {
     "data": {
      "text/plain": [
       "93.8"
      ]
     },
     "execution_count": 15,
     "metadata": {},
     "output_type": "execute_result"
    }
   ],
   "source": [
    "acc = tab.diagonal().sum()*100/tab.sum()\n",
    "acc"
   ]
  },
  {
   "cell_type": "code",
   "execution_count": 16,
   "id": "b743bfd3",
   "metadata": {},
   "outputs": [],
   "source": [
    "model.save(\"Mask_Nomask.h5\")        ## to save the model"
   ]
  },
  {
   "cell_type": "code",
   "execution_count": 17,
   "id": "79328fdd",
   "metadata": {},
   "outputs": [],
   "source": [
    "from keras.models import load_model   ## required import"
   ]
  },
  {
   "cell_type": "code",
   "execution_count": 18,
   "id": "01dcf9b7",
   "metadata": {},
   "outputs": [],
   "source": [
    "abcd = load_model(\"Mask_Nomask.h5\")"
   ]
  },
  {
   "cell_type": "code",
   "execution_count": 19,
   "id": "9029b9a2",
   "metadata": {},
   "outputs": [],
   "source": [
    "import cv2\n",
    "import numpy as np\n",
    "from keras.models import load_model\n",
    "#model = load_model(\"F:\\pranjal\\knowledge\\data analytics\\R programing\\conducting classes\\PythonModel\\my_mask_NoMask_model.h5\") \n",
    "model=load_model(\"Mask_Nomask.h5\")\n",
    "\n",
    "results={0:'Mask  found',1:'Mask not found '}\n",
    "GR_dict={0:(0,255,255),1:(0,255,0)}\n",
    "\n",
    "rect_size = 4\n",
    "cap = cv2.VideoCapture(0) \n",
    "\n",
    "haarcascade = cv2.CascadeClassifier(r\"D:\\harcascing\\haarcascade_frontalface_alt.xml\")\n",
    "while True:\n",
    "    (rval, im) = cap.read()\n",
    "    im=cv2.flip(im,1,1)\n",
    "\n",
    "    rerect_size = cv2.resize(im, (im.shape[1] // rect_size, im.shape[0] // rect_size))\n",
    "    faces = haarcascade.detectMultiScale(rerect_size)\n",
    "    for f in faces:\n",
    "        (x, y, w, h) = [v * rect_size for v in f] \n",
    "        \n",
    "        face_img = im[y:y+h, x:x+w]\n",
    "        rerect_sized=cv2.resize(face_img,(200,200))\n",
    "        normalized=rerect_sized/255.0\n",
    "        reshaped=np.reshape(normalized,(1,200,200,3))\n",
    "        reshaped = np.vstack([reshaped])\n",
    "        result=model.predict(reshaped)\n",
    "\n",
    "        \n",
    "        label=np.argmax(result,axis=1)[0]\n",
    "      \n",
    "        cv2.rectangle(im,(x,y),(x+w,y+h),GR_dict[label],2)\n",
    "        cv2.rectangle(im,(x,y-40),(x+w,y),GR_dict[label],-1)\n",
    "        cv2.putText(im, results[label], (x, y-10),cv2.FONT_HERSHEY_SIMPLEX,0.8,(255,0,0),2)\n",
    "\n",
    "    cv2.imshow('Liv Camera',   im)\n",
    "    key = cv2.waitKey(10)\n",
    "    \n",
    "    if key == 27: # use the escape key\n",
    "        break\n",
    "\n",
    "cap.release()\n",
    "\n",
    "cv2.destroyAllWindows()\n"
   ]
  },
  {
   "cell_type": "code",
   "execution_count": null,
   "id": "a6c9e7f6",
   "metadata": {},
   "outputs": [],
   "source": []
  },
  {
   "cell_type": "code",
   "execution_count": null,
   "id": "151cbdd0",
   "metadata": {},
   "outputs": [],
   "source": []
  }
 ],
 "metadata": {
  "kernelspec": {
   "display_name": "Python 3",
   "language": "python",
   "name": "python3"
  },
  "language_info": {
   "codemirror_mode": {
    "name": "ipython",
    "version": 3
   },
   "file_extension": ".py",
   "mimetype": "text/x-python",
   "name": "python",
   "nbconvert_exporter": "python",
   "pygments_lexer": "ipython3",
   "version": "3.8.8"
  }
 },
 "nbformat": 4,
 "nbformat_minor": 5
}
